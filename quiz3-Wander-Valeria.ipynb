{
 "cells": [
  {
   "cell_type": "markdown",
   "metadata": {},
   "source": [
    "Quiz # 3 - Bases de Datos 2 - Wander Jimenez Calvo - Valeria Oconitrillo"
   ]
  },
  {
   "cell_type": "code",
   "execution_count": 24,
   "metadata": {},
   "outputs": [],
   "source": [
    "# Establecer conexión con Redis Labs para poder acceder a la base de datos\n",
    "\n",
    "import redis\n",
    "\n",
    "r = redis.Redis(\n",
    "    host='redis-19161.c14.us-east-1-3.ec2.cloud.redislabs.com',\n",
    "    port=19161,\n",
    "    password='lCJ4GIjy107B346iuoDxo5wxB2Q7QDPY',\n",
    ")"
   ]
  },
  {
   "cell_type": "markdown",
   "metadata": {},
   "source": [
    "Ejercicio 1: Manipulación de Strings"
   ]
  },
  {
   "cell_type": "code",
   "execution_count": 29,
   "metadata": {},
   "outputs": [
    {
     "data": {
      "text/plain": [
       "True"
      ]
     },
     "execution_count": 29,
     "metadata": {},
     "output_type": "execute_result"
    }
   ],
   "source": [
    "\n",
    "# 1. Utiliza SET para crear una clave user:100 con el valor ”Juan Perez”\n",
    "\n",
    "r.set('user:100', 'Juan Perez')"
   ]
  },
  {
   "cell_type": "code",
   "execution_count": 30,
   "metadata": {},
   "outputs": [
    {
     "name": "stdout",
     "output_type": "stream",
     "text": [
      "Valor de user:100: b'Juan Perez'\n"
     ]
    }
   ],
   "source": [
    "# 2. Recupera el valor de user:100 usando GET\n",
    "\n",
    "print(\"Valor de user:100:\", r.get('user:100'))"
   ]
  },
  {
   "cell_type": "code",
   "execution_count": 31,
   "metadata": {},
   "outputs": [
    {
     "data": {
      "text/plain": [
       "True"
      ]
     },
     "execution_count": 31,
     "metadata": {},
     "output_type": "execute_result"
    }
   ],
   "source": [
    "# 3. Actualiza el valor de user:100 a ”Ana Gómez” con SET\n",
    "\n",
    "r.set('user:100', 'Ana Gómez')"
   ]
  },
  {
   "cell_type": "code",
   "execution_count": 32,
   "metadata": {},
   "outputs": [
    {
     "data": {
      "text/plain": [
       "1"
      ]
     },
     "execution_count": 32,
     "metadata": {},
     "output_type": "execute_result"
    }
   ],
   "source": [
    "# 4. Elimina la clave user:100 con DEL\n",
    "\n",
    "r.delete('user:100')"
   ]
  },
  {
   "cell_type": "markdown",
   "metadata": {},
   "source": [
    "Ejercicio 2: Listas en Acción"
   ]
  },
  {
   "cell_type": "code",
   "execution_count": 35,
   "metadata": {},
   "outputs": [
    {
     "data": {
      "text/plain": [
       "10"
      ]
     },
     "execution_count": 35,
     "metadata": {},
     "output_type": "execute_result"
    }
   ],
   "source": [
    "# 1. Crea una lista tareas y añade tres tareas usando LPUSH o RPUSH\n",
    "\n",
    "r.lpush('tareas', 'Hola')\n",
    "r.lpush('tareas', 'Nuevo')\n",
    "r.lpush('tareas', 'Mundo')"
   ]
  },
  {
   "cell_type": "code",
   "execution_count": 50,
   "metadata": {},
   "outputs": [
    {
     "name": "stdout",
     "output_type": "stream",
     "text": [
      "Elementos de la lista tareas: [b'Mundo', b'Hola']\n"
     ]
    }
   ],
   "source": [
    "# 2. Muestra todos los elementos de la lista tareas con LRANGE\n",
    "\n",
    "print(\"Elementos de la lista tareas:\", r.lrange('tareas', 0, -1))"
   ]
  },
  {
   "cell_type": "code",
   "execution_count": 49,
   "metadata": {},
   "outputs": [
    {
     "data": {
      "text/plain": [
       "1"
      ]
     },
     "execution_count": 49,
     "metadata": {},
     "output_type": "execute_result"
    }
   ],
   "source": [
    "# 3. Elimina un elemento específico de la lista tareas utilizando LREM\n",
    "\n",
    "r.lrem('tareas', 1, 'Nuevo')"
   ]
  },
  {
   "cell_type": "code",
   "execution_count": 75,
   "metadata": {},
   "outputs": [
    {
     "name": "stdout",
     "output_type": "stream",
     "text": [
      "Elemento de la lista tareas: b'Hola'\n"
     ]
    }
   ],
   "source": [
    "# 4. Extrae y muestra un elemento de la lista con LPOP o RPOP\n",
    "\n",
    "print(\"Elemento de la lista tareas:\", r.lpop('tareas'))"
   ]
  },
  {
   "cell_type": "markdown",
   "metadata": {},
   "source": [
    "Ejercicio 3: Sets para Almacenar Intereses"
   ]
  },
  {
   "cell_type": "code",
   "execution_count": 52,
   "metadata": {},
   "outputs": [
    {
     "data": {
      "text/plain": [
       "1"
      ]
     },
     "execution_count": 52,
     "metadata": {},
     "output_type": "execute_result"
    }
   ],
   "source": [
    "# 1. Crea un set intereses:100 y añade al menos 5 intereses distintos con SADD\n",
    "\n",
    "r.sadd('intereses:100', 'Deportes', 'Música', 'Tecnología', 'Viajes', 'Cine')"
   ]
  },
  {
   "cell_type": "code",
   "execution_count": 53,
   "metadata": {},
   "outputs": [
    {
     "name": "stdout",
     "output_type": "stream",
     "text": [
      "Intereses del set intereses:100: {b'Tecnolog\\xc3\\xada', b'Deportes', b'M\\xc3\\xbasica', b'Cine', b'Viajes'}\n"
     ]
    }
   ],
   "source": [
    "# 2. Muestra todos los intereses del set con SMEMBERS\n",
    "\n",
    "print(\"Intereses del set intereses:100:\", r.smembers('intereses:100'))"
   ]
  },
  {
   "cell_type": "code",
   "execution_count": 54,
   "metadata": {},
   "outputs": [
    {
     "data": {
      "text/plain": [
       "0"
      ]
     },
     "execution_count": 54,
     "metadata": {},
     "output_type": "execute_result"
    }
   ],
   "source": [
    "# 3. Prueba añadir un interés duplicado a intereses:100 y observa lo que sucede\n",
    "\n",
    "r.sadd('intereses:100', 'Deportes')  "
   ]
  },
  {
   "cell_type": "markdown",
   "metadata": {},
   "source": [
    "# Nota: No se añade el interes duplicado, herramienta de gran utilidad."
   ]
  },
  {
   "cell_type": "code",
   "execution_count": 55,
   "metadata": {},
   "outputs": [
    {
     "data": {
      "text/plain": [
       "1"
      ]
     },
     "execution_count": 55,
     "metadata": {},
     "output_type": "execute_result"
    }
   ],
   "source": [
    "# 4. Elimina un interés específico de intereses:100 con SREM\n",
    "\n",
    "r.srem('intereses:100', 'Cine')"
   ]
  },
  {
   "cell_type": "markdown",
   "metadata": {},
   "source": [
    "Ejercicio 4: Hashes para Perfiles de Usuario"
   ]
  },
  {
   "cell_type": "code",
   "execution_count": 56,
   "metadata": {},
   "outputs": [
    {
     "data": {
      "text/plain": [
       "0"
      ]
     },
     "execution_count": 56,
     "metadata": {},
     "output_type": "execute_result"
    }
   ],
   "source": [
    "# 1. Crea un hash usuario:101 con campos como nombre, apellido, email\n",
    "\n",
    "r.hset('usuario:101', 'nombre', 'Juan')\n",
    "r.hset('usuario:101', 'apellido', 'Perez')\n",
    "r.hset('usuario:101', 'email', 'juan@Perez.com')"
   ]
  },
  {
   "cell_type": "code",
   "execution_count": 57,
   "metadata": {},
   "outputs": [
    {
     "data": {
      "text/plain": [
       "1"
      ]
     },
     "execution_count": 57,
     "metadata": {},
     "output_type": "execute_result"
    }
   ],
   "source": [
    "# 2. Añade al menos tres campos y valores con HSET\n",
    "\n",
    "r.hset('usuario:101', 'edad', 30)\n",
    "r.hset('usuario:101', 'ciudad', 'Costa Rica')\n",
    "r.hset('usuario:101', 'teléfono', '2020425905')"
   ]
  },
  {
   "cell_type": "code",
   "execution_count": 65,
   "metadata": {},
   "outputs": [
    {
     "name": "stdout",
     "output_type": "stream",
     "text": [
      "Campos y valores del hash usuario:101: {b'nombre': b'Juan', b'apellido': b'Perez', b'email': b'juan@Perez.com', b'edad': b'31', b'ciudad': b'Costa Rica'}\n"
     ]
    }
   ],
   "source": [
    "# 3. Recupera todos los campos y valores de usuario:101 con HGETALL\n",
    "\n",
    "print(\"Campos y valores del hash usuario:101:\", r.hgetall('usuario:101'))"
   ]
  },
  {
   "cell_type": "code",
   "execution_count": 64,
   "metadata": {},
   "outputs": [
    {
     "data": {
      "text/plain": [
       "0"
      ]
     },
     "execution_count": 64,
     "metadata": {},
     "output_type": "execute_result"
    }
   ],
   "source": [
    "# 4. Actualiza el valor de uno de los campos con HSET\n",
    "\n",
    "r.hset('usuario:101', 'edad', 31)"
   ]
  },
  {
   "cell_type": "code",
   "execution_count": 60,
   "metadata": {},
   "outputs": [
    {
     "data": {
      "text/plain": [
       "1"
      ]
     },
     "execution_count": 60,
     "metadata": {},
     "output_type": "execute_result"
    }
   ],
   "source": [
    "# 5. Elimina un campo específico con HDEL\n",
    "\n",
    "r.hdel('usuario:101', 'teléfono')"
   ]
  },
  {
   "cell_type": "markdown",
   "metadata": {},
   "source": [
    "Ejercicio 5: Sorted Sets con Puntuaciones"
   ]
  },
  {
   "cell_type": "code",
   "execution_count": 74,
   "metadata": {},
   "outputs": [
    {
     "data": {
      "text/plain": [
       "0"
      ]
     },
     "execution_count": 74,
     "metadata": {},
     "output_type": "execute_result"
    }
   ],
   "source": [
    "# 1. Crea un sorted set puntuaciones donde las claves son nombres de usuario y los puntajes son enteros\n",
    "\n",
    "r.zadd('puntuaciones', {'Wander': 100, 'Valeria': 200, 'Jose': 150, 'HolaMundo': 180, 'Japon': 90})"
   ]
  },
  {
   "cell_type": "code",
   "execution_count": 72,
   "metadata": {},
   "outputs": [
    {
     "name": "stdout",
     "output_type": "stream",
     "text": [
      "Miembros y puntajes: [(b'Japon', 90.0), (b'Wander', 100.0), (b'Jose', 150.0), (b'HolaMundo', 180.0), (b'Valeria', 200.0)]\n"
     ]
    }
   ],
   "source": [
    "# 2. Muestra todos los miembros y sus puntajes con ZRANGE y la opción WITHSCORES\n",
    "\n",
    "print(\"Miembros y puntajes:\", r.zrange('puntuaciones', 0, -1, withscores=True))"
   ]
  },
  {
   "cell_type": "code",
   "execution_count": 73,
   "metadata": {},
   "outputs": [
    {
     "name": "stdout",
     "output_type": "stream",
     "text": [
      "Posición de Wander en puntuaciones: 1\n"
     ]
    }
   ],
   "source": [
    "# 3. Encuentra la posición de un usuario específico con ZRANK o ZREVRANK\n",
    "\n",
    "print(\"Posición de Wander en puntuaciones:\", r.zrank('puntuaciones', 'Wander'))"
   ]
  }
 ],
 "metadata": {
  "kernelspec": {
   "display_name": "Python 3",
   "language": "python",
   "name": "python3"
  },
  "language_info": {
   "codemirror_mode": {
    "name": "ipython",
    "version": 3
   },
   "file_extension": ".py",
   "mimetype": "text/x-python",
   "name": "python",
   "nbconvert_exporter": "python",
   "pygments_lexer": "ipython3",
   "version": "3.12.2"
  }
 },
 "nbformat": 4,
 "nbformat_minor": 2
}
